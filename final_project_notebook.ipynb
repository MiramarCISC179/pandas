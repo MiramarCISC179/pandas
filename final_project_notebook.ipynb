{
 "cells": [
  {
   "cell_type": "markdown",
   "source": [
    "# Want to do a kickstarter?\n",
    "\n",
    "## An analysis on kickstarters using python"
   ],
   "metadata": {
    "collapsed": false
   }
  },
  {
   "cell_type": "markdown",
   "source": [
    "This notebook is looking into a dataset showing thousands of kickstater projects to see what projects are successful and projects that are not successful."
   ],
   "metadata": {
    "collapsed": false
   }
  },
  {
   "cell_type": "code",
   "execution_count": null,
   "outputs": [],
   "source": [
    "import pandas as pd\n",
    "import numpy as np\n",
    "\n",
    "main_dataset = pd.read_csv('ks-projects-201801.csv')"
   ],
   "metadata": {
    "collapsed": false,
    "pycharm": {
     "name": "#%%\n"
    }
   }
  },
  {
   "cell_type": "code",
   "execution_count": null,
   "outputs": [],
   "source": [
    "main_dataset"
   ],
   "metadata": {
    "collapsed": false,
    "pycharm": {
     "name": "#%%\n"
    }
   }
  },
  {
   "cell_type": "markdown",
   "source": [
    "As we can see, we have information for over 370,000 projects that were put on kickstarter. We will be first running a quick pd.info() function to obtain information on the d-types each of these columns are. The next step after that is to delete any column we will not be needing and dividing this df into 3 seperate lists(possible df's): successful projects, failed projects, and cancelled projects."
   ],
   "metadata": {
    "collapsed": false
   }
  },
  {
   "cell_type": "code",
   "execution_count": null,
   "outputs": [],
   "source": [
    "#gather basic info on the d-types for each column\n",
    "main_dataset.info()"
   ],
   "metadata": {
    "collapsed": false,
    "pycharm": {
     "name": "#%%\n"
    }
   }
  },
  {
   "cell_type": "markdown",
   "source": [
    "Looking at the information above, we are starting to get a general understanding of the dataframe/dataset. Understanding what is a float, int, or an object will help us going forward in order to use the correct code when it comes to reading strings or making int conversions."
   ],
   "metadata": {
    "collapsed": false
   }
  },
  {
   "cell_type": "code",
   "execution_count": null,
   "outputs": [],
   "source": [
    "#renaming certain column names within the dataset\n",
    "main_dataset = main_dataset.rename(columns={\"state\" : \"project_result\", \"backers\" : \"num_of_pledges\", \"usd pledged\" : \"usd_pledged\", \"pledged\" : \"total_amount_pledged\"})"
   ],
   "metadata": {
    "collapsed": false,
    "pycharm": {
     "name": "#%%\n"
    }
   }
  },
  {
   "cell_type": "markdown",
   "source": [
    "## Creating Two New Datasets\n",
    "\n",
    "We will be making two new datasets:\n",
    "* one for successful projects\n",
    "* one for failed projects\n",
    "\n",
    "We will analize more detailed information from the two datasets."
   ],
   "metadata": {
    "collapsed": false
   }
  },
  {
   "cell_type": "code",
   "execution_count": null,
   "outputs": [],
   "source": [
    "#making two new data sets, success and fail, to further investigate each of them\n",
    "failed_dataset = main_dataset.loc[main_dataset[\"project_result\"] == \"failed\"]\n",
    "successful_dataset = main_dataset.loc[main_dataset[\"project_result\"] == \"successful\"]\n"
   ],
   "metadata": {
    "collapsed": false,
    "pycharm": {
     "name": "#%%\n"
    }
   }
  },
  {
   "cell_type": "code",
   "execution_count": null,
   "outputs": [],
   "source": [
    "#convert number in dataset to make them easier to read\n",
    "pd.options.display.float_format = '{:.2f}'.format"
   ],
   "metadata": {
    "collapsed": false,
    "pycharm": {
     "name": "#%%\n"
    }
   }
  },
  {
   "cell_type": "code",
   "execution_count": null,
   "outputs": [],
   "source": [
    "failed_dataset.describe(include='all')"
   ],
   "metadata": {
    "collapsed": false,
    "pycharm": {
     "name": "#%%\n"
    }
   }
  },
  {
   "cell_type": "code",
   "execution_count": null,
   "outputs": [],
   "source": [
    "successful_dataset.describe(include='all')"
   ],
   "metadata": {
    "collapsed": false,
    "pycharm": {
     "name": "#%%\n"
    }
   }
  },
  {
   "cell_type": "markdown",
   "source": [
    "So, there is a lot of information to take in from the last few cells. We seperated the main dataset into two serperate datasets based on if they failed or succeeded. Then, we ran them through a describe method, which devideds up the average number that takes place within each column. To get an idea of what the average dollar amount was put into a successful/failed kickstater, you simply look at the usd_pledged_real column, maen row, and you will see the average amount put into either a successful or failed kickstater. Example, 22,670.80 was the average amount for a successful kickstater, while 1320.60 was the average amount for a failed kickstater. That is a staggering amount of difference between the two. We can start to look at these categories using visualizations to get a better understanding."
   ],
   "metadata": {
    "collapsed": false
   }
  },
  {
   "cell_type": "code",
   "execution_count": null,
   "outputs": [],
   "source": [
    "# get total amount pledged, number of pledges, and goals into a dataframe to put into visualization.\n",
    "import matplotlib.pyplot as plt"
   ],
   "metadata": {
    "collapsed": false,
    "pycharm": {
     "name": "#%%\n"
    }
   }
  },
  {
   "cell_type": "markdown",
   "source": [
    "## Comparison Graph of Successful and Failed Kickstarters"
   ],
   "metadata": {
    "collapsed": false
   }
  },
  {
   "cell_type": "code",
   "execution_count": null,
   "outputs": [],
   "source": [
    "success_fail_graph = {\n",
    "    'success_total_avg' : 24100,\n",
    "    'success_goal_avg' : 9533,\n",
    "    'fail_total_avg' : 1427,\n",
    "    'fail_goal_avg' : 63175\n",
    "}\n",
    "\n",
    "#function that formats currencies on the x-axis in our graphs\n",
    "def currency(x, pos):\n",
    "    if x >= 1e6:\n",
    "        s = '${:1.1f}M'.format(x*1e-6)\n",
    "    else:\n",
    "        s = '${:1.0f}K'.format(x*1e-3)\n",
    "    return s\n",
    "\n",
    "\n",
    "success_fail_values = list(success_fail_graph.values())\n",
    "success_fail_keys = list(success_fail_graph.keys())\n",
    "graph_mean = np.mean(success_fail_values)\n",
    "fig, ax = plt.subplots()\n",
    "ax.barh(success_fail_keys, success_fail_values)\n",
    "labels = ax.get_xticklabels()\n",
    "plt.setp(labels, rotation=45, horizontalalignment='right')\n",
    "ax.set(xlabel='Average Amount Pledged', ylabel='Success/Fail Average', title='Average Goals/Pleged Amounts For Kickstarters')\n",
    "ax.xaxis.set_major_formatter(currency)"
   ],
   "metadata": {
    "collapsed": false,
    "pycharm": {
     "name": "#%%\n"
    }
   }
  },
  {
   "cell_type": "markdown",
   "source": [
    "After reoganizing the successful and failed kickstarters, I took the info from both datasets and looked at the total amount of money on average were put into succeful and failed kickstarters, as well as what the goal total was on average for each dataset. Looking at the datasets on a surface level, we can see the huge amount of difference between the average amount given and what the goal amount was for the failed dataset. There is still a big difference for the succefulamount given and goal amount as well. It is possible the amount of goal money for failed kickstarters was just too high and unrealistic to ever reach those goals. The next step in this analysis is to see the categories in each dataset and see if there was a category that could have been more succeful/not successful."
   ],
   "metadata": {
    "collapsed": false
   }
  },
  {
   "cell_type": "markdown",
   "source": [
    "## Even More Datasets! Taking a Deeper Look at Kickstarter Categories\n",
    "\n",
    "So no we have a brief idea of the differences between successful and failed Kickstarters, we are going to take a closer look at their specific Categories to see whcih ones do the best."
   ],
   "metadata": {
    "collapsed": false
   }
  },
  {
   "cell_type": "code",
   "execution_count": null,
   "outputs": [],
   "source": [
    "#making a new dataset to see the categories that were successful and how much their goals were on average, how much was pledged in total\n",
    "successful_categories = successful_dataset[['name', 'category', 'main_category', 'goal', 'total_amount_pledged']]\n",
    "successful_categories.head(10)"
   ],
   "metadata": {
    "collapsed": false,
    "pycharm": {
     "name": "#%%\n"
    }
   }
  },
  {
   "cell_type": "code",
   "execution_count": null,
   "outputs": [],
   "source": [
    "#using the value_counts function to see what category occurs the most in the main category\n",
    "main_category_dataset = (successful_categories['main_category'].value_counts(normalize=True) * 100)\n",
    "print(main_category_dataset)\n",
    "top_10_categories = successful_categories['main_category'].value_counts().head(10).index\n",
    "top_10_categories"
   ],
   "metadata": {
    "collapsed": false,
    "pycharm": {
     "name": "#%%\n"
    }
   }
  },
  {
   "cell_type": "code",
   "execution_count": null,
   "outputs": [],
   "source": [
    "side_category_dataset = (successful_categories['category'].value_counts(normalize=True, dropna=True) * 100)\n",
    "print(side_category_dataset)\n",
    "top_10_side_categories = successful_categories['category'].value_counts().head(10).index\n",
    "top_10_side_categories"
   ],
   "metadata": {
    "collapsed": false,
    "pycharm": {
     "name": "#%%\n"
    }
   }
  },
  {
   "cell_type": "code",
   "execution_count": null,
   "outputs": [],
   "source": [
    "#using a for-loop to append categories and how much money is pleged on average to a dictionary\n",
    "\n",
    "avg_main_category_pledged = {}\n",
    "\n",
    "for categories in top_10_categories:\n",
    "    main_cat_only = successful_dataset[successful_dataset[\"main_category\"] == categories]\n",
    "\n",
    "    mean_amount = main_cat_only['total_amount_pledged'].mean()\n",
    "\n",
    "    avg_main_category_pledged[categories] = int(mean_amount)\n",
    "\n",
    "avg_main_category_pledged"
   ],
   "metadata": {
    "collapsed": false,
    "pycharm": {
     "name": "#%%\n"
    }
   }
  },
  {
   "cell_type": "code",
   "execution_count": null,
   "outputs": [],
   "source": [
    "avg_side_category_pledged = {}\n",
    "\n",
    "for side_categories in top_10_side_categories:\n",
    "    side_cat_only = successful_dataset[successful_dataset['category'] == side_categories]\n",
    "\n",
    "    side_mean_amount = side_cat_only['total_amount_pledged'].mean()\n",
    "\n",
    "    avg_side_category_pledged[side_categories] = int(side_mean_amount)\n",
    "\n",
    "avg_side_category_pledged"
   ],
   "metadata": {
    "collapsed": false,
    "pycharm": {
     "name": "#%%\n"
    }
   }
  },
  {
   "cell_type": "code",
   "execution_count": null,
   "outputs": [],
   "source": [
    "#creating a graph and customizing it from the main_categories dictionary and side categories dictionary.\n",
    "avg_cat_pleged_values = list(avg_main_category_pledged.values())\n",
    "avg_cat_pleged_keys = list(avg_main_category_pledged.keys())\n",
    "graph_mean = np.mean(avg_cat_pleged_values)\n",
    "fig, ax = plt.subplots()\n",
    "ax.barh(avg_cat_pleged_keys, avg_cat_pleged_values)\n",
    "labels = ax.get_xticklabels()\n",
    "plt.setp(labels, rotation=45, horizontalalignment='right')\n",
    "ax.set(xlabel='Average Amount Pledged', ylabel='Main Categories', title='Average for Main Categories')\n",
    "ax.xaxis.set_major_formatter(currency)"
   ],
   "metadata": {
    "collapsed": false,
    "pycharm": {
     "name": "#%%\n"
    }
   }
  },
  {
   "cell_type": "code",
   "execution_count": null,
   "outputs": [],
   "source": [
    "avg_side_cat_pleged_values = list(avg_side_category_pledged.values())\n",
    "avg_side_cat_pleged_keys = list(avg_side_category_pledged.keys())\n",
    "graph_mean = np.mean(avg_side_cat_pleged_values)\n",
    "fig, ax = plt.subplots()\n",
    "ax.barh(avg_side_cat_pleged_keys, avg_side_cat_pleged_values)\n",
    "labels = ax.get_xticklabels()\n",
    "plt.setp(labels, rotation=45, horizontalalignment='right')\n",
    "ax.set(xlabel='Average Amount Pledged', ylabel='Side Categories', title='Average for Side Categories')\n",
    "ax.xaxis.set_major_formatter(currency)\n"
   ],
   "metadata": {
    "collapsed": false,
    "pycharm": {
     "name": "#%%\n"
    }
   }
  }
 ],
 "metadata": {
  "kernelspec": {
   "display_name": "Python 3",
   "language": "python",
   "name": "python3"
  },
  "language_info": {
   "codemirror_mode": {
    "name": "ipython",
    "version": 2
   },
   "file_extension": ".py",
   "mimetype": "text/x-python",
   "name": "python",
   "nbconvert_exporter": "python",
   "pygments_lexer": "ipython2",
   "version": "2.7.6"
  }
 },
 "nbformat": 4,
 "nbformat_minor": 0
}