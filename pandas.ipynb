{
 "cells": [
  {
   "cell_type": "code",
   "execution_count": 83,
   "outputs": [
    {
     "data": {
      "text/plain": "           ID                                               name  \\\n0  1000002330                    The Songs of Adelaide & Abullah   \n1  1000003930      Greeting From Earth: ZGAC Arts Capsule For ET   \n2  1000004038                                     Where is Hank?   \n3  1000007540  ToshiCapital Rekordz Needs Help to Complete Album   \n4  1000011046  Community Film Project: The Art of Neighborhoo...   \n\n         category main_category currency   deadline     goal         launched  \\\n0          Poetry    Publishing      GBP  10/9/2015   1000.0  8/11/2015 12:12   \n1  Narrative Film  Film & Video      USD  11/1/2017  30000.0    9/2/2017 4:43   \n2  Narrative Film  Film & Video      USD  2/26/2013  45000.0   1/12/2013 0:20   \n3           Music         Music      USD  4/16/2012   5000.0   3/17/2012 3:24   \n4    Film & Video  Film & Video      USD  8/29/2015  19500.0    7/4/2015 8:35   \n\n   pledged     state  backers country  usd pledged  usd_pledged_real  \\\n0      0.0    failed        0      GB          0.0               0.0   \n1   2421.0    failed       15      US        100.0            2421.0   \n2    220.0    failed        3      US        220.0             220.0   \n3      1.0    failed        1      US          1.0               1.0   \n4   1283.0  canceled       14      US       1283.0            1283.0   \n\n   usd_goal_real  \n0        1533.95  \n1       30000.00  \n2       45000.00  \n3        5000.00  \n4       19500.00  ",
      "text/html": "<div>\n<style scoped>\n    .dataframe tbody tr th:only-of-type {\n        vertical-align: middle;\n    }\n\n    .dataframe tbody tr th {\n        vertical-align: top;\n    }\n\n    .dataframe thead th {\n        text-align: right;\n    }\n</style>\n<table border=\"1\" class=\"dataframe\">\n  <thead>\n    <tr style=\"text-align: right;\">\n      <th></th>\n      <th>ID</th>\n      <th>name</th>\n      <th>category</th>\n      <th>main_category</th>\n      <th>currency</th>\n      <th>deadline</th>\n      <th>goal</th>\n      <th>launched</th>\n      <th>pledged</th>\n      <th>state</th>\n      <th>backers</th>\n      <th>country</th>\n      <th>usd pledged</th>\n      <th>usd_pledged_real</th>\n      <th>usd_goal_real</th>\n    </tr>\n  </thead>\n  <tbody>\n    <tr>\n      <th>0</th>\n      <td>1000002330</td>\n      <td>The Songs of Adelaide &amp; Abullah</td>\n      <td>Poetry</td>\n      <td>Publishing</td>\n      <td>GBP</td>\n      <td>10/9/2015</td>\n      <td>1000.0</td>\n      <td>8/11/2015 12:12</td>\n      <td>0.0</td>\n      <td>failed</td>\n      <td>0</td>\n      <td>GB</td>\n      <td>0.0</td>\n      <td>0.0</td>\n      <td>1533.95</td>\n    </tr>\n    <tr>\n      <th>1</th>\n      <td>1000003930</td>\n      <td>Greeting From Earth: ZGAC Arts Capsule For ET</td>\n      <td>Narrative Film</td>\n      <td>Film &amp; Video</td>\n      <td>USD</td>\n      <td>11/1/2017</td>\n      <td>30000.0</td>\n      <td>9/2/2017 4:43</td>\n      <td>2421.0</td>\n      <td>failed</td>\n      <td>15</td>\n      <td>US</td>\n      <td>100.0</td>\n      <td>2421.0</td>\n      <td>30000.00</td>\n    </tr>\n    <tr>\n      <th>2</th>\n      <td>1000004038</td>\n      <td>Where is Hank?</td>\n      <td>Narrative Film</td>\n      <td>Film &amp; Video</td>\n      <td>USD</td>\n      <td>2/26/2013</td>\n      <td>45000.0</td>\n      <td>1/12/2013 0:20</td>\n      <td>220.0</td>\n      <td>failed</td>\n      <td>3</td>\n      <td>US</td>\n      <td>220.0</td>\n      <td>220.0</td>\n      <td>45000.00</td>\n    </tr>\n    <tr>\n      <th>3</th>\n      <td>1000007540</td>\n      <td>ToshiCapital Rekordz Needs Help to Complete Album</td>\n      <td>Music</td>\n      <td>Music</td>\n      <td>USD</td>\n      <td>4/16/2012</td>\n      <td>5000.0</td>\n      <td>3/17/2012 3:24</td>\n      <td>1.0</td>\n      <td>failed</td>\n      <td>1</td>\n      <td>US</td>\n      <td>1.0</td>\n      <td>1.0</td>\n      <td>5000.00</td>\n    </tr>\n    <tr>\n      <th>4</th>\n      <td>1000011046</td>\n      <td>Community Film Project: The Art of Neighborhoo...</td>\n      <td>Film &amp; Video</td>\n      <td>Film &amp; Video</td>\n      <td>USD</td>\n      <td>8/29/2015</td>\n      <td>19500.0</td>\n      <td>7/4/2015 8:35</td>\n      <td>1283.0</td>\n      <td>canceled</td>\n      <td>14</td>\n      <td>US</td>\n      <td>1283.0</td>\n      <td>1283.0</td>\n      <td>19500.00</td>\n    </tr>\n  </tbody>\n</table>\n</div>"
     },
     "execution_count": 83,
     "metadata": {},
     "output_type": "execute_result"
    }
   ],
   "source": [
    "\"\"\"Analyzing Failed Kickstarter Campaigns\"\"\"\n",
    "\n",
    "import pandas as pd\n",
    "import numpy as np\n",
    "import matplotlib.pyplot as plt\n",
    "\n",
    "#importing CSV File\n",
    "kickstarter = pd.read_csv('ks-projects-201801.csv')\n",
    "\n",
    "#Displays the Header Names for Columns\n",
    "kickstarter.head()"
   ],
   "metadata": {
    "collapsed": false,
    "pycharm": {
     "name": "#%%\n"
    }
   }
  },
  {
   "cell_type": "code",
   "execution_count": 84,
   "outputs": [
    {
     "data": {
      "text/plain": "0           failed\n1           failed\n2           failed\n3           failed\n4         canceled\n            ...   \n378656    canceled\n378657      failed\n378658      failed\n378659      failed\n378660      failed\nName: state, Length: 378661, dtype: object"
     },
     "execution_count": 84,
     "metadata": {},
     "output_type": "execute_result"
    }
   ],
   "source": [
    "#Displays Out the State of the Kickstarter\n",
    "kickstarter['state']"
   ],
   "metadata": {
    "collapsed": false,
    "pycharm": {
     "name": "#%%\n"
    }
   }
  },
  {
   "cell_type": "code",
   "execution_count": 85,
   "outputs": [
    {
     "data": {
      "text/plain": "failed        197719\nsuccessful    133956\ncanceled       38779\nundefined       3562\nlive            2799\nsuspended       1846\nName: state, dtype: int64"
     },
     "execution_count": 85,
     "metadata": {},
     "output_type": "execute_result"
    }
   ],
   "source": [
    "#Displays Out the Number of Outcomes of the Kickstarter Campaigns\n",
    "kickstarter['state'].value_counts()\n",
    "\n",
    "#The Result says There are 133956 Successful Kickstarter Campaigns"
   ],
   "metadata": {
    "collapsed": false,
    "pycharm": {
     "name": "#%%\n"
    }
   }
  },
  {
   "cell_type": "code",
   "execution_count": 86,
   "outputs": [
    {
     "data": {
      "text/plain": "ID          name                                                                  category         main_category  currency  deadline   goal     launched          pledged  state   backers  country  usd pledged  usd_pledged_real  usd_goal_real\n5971        An American Apocalypse: The Reckoning                                 Comics           Comics         USD       8/6/2012   48000.0  6/8/2012 18:46    376.0    failed  7        US       376.0        376.0             48000.00         1\n1432532113  The B.A.R.O.N Project                                                 Science Fiction  Film & Video   USD       6/16/2016  6000.0   5/17/2016 10:58   0.0      failed  0        US       0.0          0.0               6000.00          1\n1431540739  First Reactive Music Project - RjDj App for iPhone/iPod Touch & iPad  Music            Music          USD       6/11/2010  2500.0   4/12/2010 8:11    5.0      failed  1        US       5.0          5.0               2500.00          1\n1431542572  Above the Cosmodrome : a stopmotion animated short                    Animation        Film & Video   USD       8/12/2014  15000.0  6/13/2014 22:22   2545.0   failed  59       US       2545.0       2545.0            15000.00         1\n1431549372  The MIND + GAME Show                                                  Live Games       Games          USD       4/30/2016  12000.0  4/4/2016 6:06     3.0      failed  2        US       3.0          3.0               12000.00         1\n                                                                                                                                                                                                                                                    ..\n718414970   Where's My Contact - anti text & drive app                            Apps             Technology     USD       8/28/2016  3000.0   7/29/2016 0:07    19.0     failed  6        US       0.0          19.0              3000.00          1\n718425295   Secure Custom-Fit Headphones with a Cause: Hearing for All            Product Design   Design         USD       2/1/2016   17500.0  12/18/2015 16:21  8622.2   failed  149      US       8622.2       8622.2            17500.00         1\n718425469   Chapter in \"The Change Series\" Jim Lutes                              Academic         Publishing     CAD       2/15/2017  2700.0   1/16/2017 6:25    0.0      failed  0        CA       0.0          0.0               2064.38          1\n718427305   Pottery and art studio takeover and expansion                         Ceramics         Art            USD       2/1/2015   8000.0   12/23/2014 17:00  1065.0   failed  23       US       1065.0       1065.0            8000.00          1\n2147466649  Dream Wedding Photo's                                                 Fine Art         Photography    CAD       7/24/2014  1500.0   7/11/2014 20:56   0.0      failed  0        CA       0.0          0.0               1393.02          1\nLength: 197611, dtype: int64"
     },
     "execution_count": 86,
     "metadata": {},
     "output_type": "execute_result"
    }
   ],
   "source": [
    "#Displays Out the Failed Kickstarter Campaigns\n",
    "kickstarter.loc[kickstarter['state'] == \"failed\"].value_counts()\n"
   ],
   "metadata": {
    "collapsed": false,
    "pycharm": {
     "name": "#%%\n"
    }
   }
  },
  {
   "cell_type": "code",
   "execution_count": 87,
   "outputs": [
    {
     "data": {
      "text/plain": "Film & Video    63585\nMusic           51918\nPublishing      39874\nGames           35231\nTechnology      32569\nDesign          30070\nArt             28153\nFood            24602\nFashion         22816\nTheater         10913\nComics          10819\nPhotography     10779\nCrafts           8809\nJournalism       4755\nDance            3768\nName: main_category, dtype: int64"
     },
     "execution_count": 87,
     "metadata": {},
     "output_type": "execute_result"
    }
   ],
   "source": [
    "#Displays Out the Number of Categories\n",
    "kickstarter['main_category'].value_counts()"
   ],
   "metadata": {
    "collapsed": false,
    "pycharm": {
     "name": "#%%\n"
    }
   }
  },
  {
   "cell_type": "code",
   "execution_count": 88,
   "outputs": [
    {
     "name": "stdout",
     "output_type": "stream",
     "text": [
      "7         -98.188000\n",
      "19        -64.380000\n",
      "23        -90.404272\n",
      "30        -99.399937\n",
      "55        -99.992727\n",
      "             ...    \n",
      "378509    -96.000000\n",
      "378573    -97.500000\n",
      "378576   -100.000000\n",
      "378629    -82.583333\n",
      "378654    -97.630769\n",
      "Length: 15969, dtype: float64\n"
     ]
    },
    {
     "data": {
      "text/plain": "count    15969.000000\nmean       -92.685372\nstd         13.366092\nmin       -100.000000\n25%        -99.988000\n50%        -99.052000\n75%        -91.800000\nmax         -0.100000\ndtype: float64"
     },
     "execution_count": 88,
     "metadata": {},
     "output_type": "execute_result"
    }
   ],
   "source": [
    "#Sorts out Food and Successful\n",
    "food = kickstarter.loc[(kickstarter['state'] == \"failed\") & (kickstarter['main_category'] == \"Food\")]\n",
    "food.to_csv('food.csv')\n",
    "food['main_category'].value_counts()\n",
    "\n",
    "foodDiv = ((food['usd_pledged_real'] - food['usd_goal_real']) / abs(food['usd_goal_real'])) * 100 #Percent Change\n",
    "print(foodDiv) #Result is Percent Gained or Lost after Kickstarter Campaign\n",
    "foodDiv.describe()\n",
    "#foodPlot = pd.read_csv('food.csv')"
   ],
   "metadata": {
    "collapsed": false,
    "pycharm": {
     "name": "#%%\n"
    }
   }
  },
  {
   "cell_type": "code",
   "execution_count": 89,
   "outputs": [
    {
     "name": "stdout",
     "output_type": "stream",
     "text": [
      "1         -91.930000\n",
      "2         -99.511111\n",
      "35        -86.266300\n",
      "45       -100.000000\n",
      "58        -98.941667\n",
      "             ...    \n",
      "378632   -100.000000\n",
      "378649    -73.000000\n",
      "378653    -98.529412\n",
      "378657    -89.666667\n",
      "378658    -99.866667\n",
      "Length: 32904, dtype: float64\n"
     ]
    },
    {
     "data": {
      "text/plain": "count    32904.000000\nmean       -91.832326\nstd         13.891128\nmin       -100.000000\n25%        -99.986667\n50%        -98.500000\n75%        -89.966667\nmax          0.000000\ndtype: float64"
     },
     "execution_count": 89,
     "metadata": {},
     "output_type": "execute_result"
    }
   ],
   "source": [
    "#Sorts out Film & Video and Successful\n",
    "filmAndVideo = kickstarter.loc[(kickstarter['state'] == \"failed\") & (kickstarter['main_category'] == \"Film & Video\")]\n",
    "#filmAndVideo.to_csv('filmAndVideo.csv')\n",
    "filmAndVideo['main_category'].value_counts()\n",
    "\n",
    "filmAndVideoDiv = ((filmAndVideo['usd_pledged_real'] - filmAndVideo['usd_goal_real']) / abs(filmAndVideo['usd_goal_real'])) * 100 #Percent Change\n",
    "print(filmAndVideoDiv) #Result is Percent Gained or Lost after Kickstarter Campaign\n",
    "filmAndVideoDiv.describe()\n"
   ],
   "metadata": {
    "collapsed": false,
    "pycharm": {
     "name": "#%%\n"
    }
   }
  },
  {
   "cell_type": "code",
   "execution_count": 90,
   "outputs": [
    {
     "name": "stdout",
     "output_type": "stream",
     "text": [
      "3        -99.980000\n",
      "64       -42.941176\n",
      "89       -90.911111\n",
      "114      -99.900000\n",
      "115      -52.800000\n",
      "            ...    \n",
      "378580   -77.700000\n",
      "378596   -99.800000\n",
      "378605   -33.900000\n",
      "378618   -99.880000\n",
      "378620   -53.240000\n",
      "Length: 21752, dtype: float64\n"
     ]
    },
    {
     "data": {
      "text/plain": "count    21752.000000\nmean       -91.154557\nstd         14.334597\nmin       -100.000000\n25%        -99.996524\n50%        -98.250057\n75%        -88.311544\nmax          2.916667\ndtype: float64"
     },
     "execution_count": 90,
     "metadata": {},
     "output_type": "execute_result"
    }
   ],
   "source": [
    "#Sorts out Music and Successful\n",
    "music = kickstarter.loc[(kickstarter['state'] == \"failed\") & (kickstarter['main_category'] == \"Music\")]\n",
    "#music.to_csv('music.csv')\n",
    "music['main_category'].value_counts()\n",
    "\n",
    "musicDiv = ((music['usd_pledged_real'] - music['usd_goal_real']) / abs(music['usd_goal_real'])) * 100 #Percent Change\n",
    "print(musicDiv) #Result is Percent Gained or Lost after Kickstarter Campaign\n",
    "musicDiv.describe()\n"
   ],
   "metadata": {
    "collapsed": false,
    "pycharm": {
     "name": "#%%\n"
    }
   }
  },
  {
   "cell_type": "code",
   "execution_count": 91,
   "outputs": [
    {
     "name": "stdout",
     "output_type": "stream",
     "text": [
      "0        -100.000000\n",
      "10       -100.000000\n",
      "17        -73.700000\n",
      "56       -100.000000\n",
      "86        -99.119985\n",
      "             ...    \n",
      "378598    -98.500000\n",
      "378606   -100.000000\n",
      "378635    -91.250000\n",
      "378638    -99.640000\n",
      "378647    -80.396079\n",
      "Length: 23145, dtype: float64\n"
     ]
    },
    {
     "data": {
      "text/plain": "count    23145.000000\nmean       -91.804141\nstd         14.144779\nmin       -100.000000\n25%        -99.980000\n50%        -98.600000\n75%        -90.144182\nmax          7.970000\ndtype: float64"
     },
     "execution_count": 91,
     "metadata": {},
     "output_type": "execute_result"
    }
   ],
   "source": [
    "#Sorts out Publishing and Successful\n",
    "publishing = kickstarter.loc[(kickstarter['state'] == \"failed\") & (kickstarter['main_category'] == \"Publishing\")]\n",
    "#publishing.to_csv('publishing.csv')\n",
    "publishing['main_category'].value_counts()\n",
    "\n",
    "publishingDiv = ((publishing['usd_pledged_real'] - publishing['usd_goal_real']) / abs(publishing['usd_goal_real'])) * 100 #Percent Change\n",
    "print(publishingDiv) #Result is Percent Gained or Lost after Kickstarter Campaign\n",
    "publishingDiv.describe()\n"
   ],
   "metadata": {
    "collapsed": false,
    "pycharm": {
     "name": "#%%\n"
    }
   }
  },
  {
   "cell_type": "code",
   "execution_count": 92,
   "outputs": [
    {
     "name": "stdout",
     "output_type": "stream",
     "text": [
      "13       -100.000000\n",
      "43        -42.933333\n",
      "79        -97.180000\n",
      "81        -86.069231\n",
      "136       -99.740000\n",
      "             ...    \n",
      "378407    -79.260439\n",
      "378510    -99.957143\n",
      "378549    -76.881818\n",
      "378563    -78.426653\n",
      "378592    -99.851733\n",
      "Length: 16003, dtype: float64\n"
     ]
    },
    {
     "data": {
      "text/plain": "count    16003.000000\nmean       -88.025746\nstd         18.205601\nmin       -100.000000\n25%        -99.740532\n50%        -96.777778\n75%        -83.923732\nmax         -0.055600\ndtype: float64"
     },
     "execution_count": 92,
     "metadata": {},
     "output_type": "execute_result"
    }
   ],
   "source": [
    "#Sorts out Games and Successful\n",
    "games = kickstarter.loc[(kickstarter['state'] == \"failed\") & (kickstarter['main_category'] == \"Games\")]\n",
    "#games.to_csv('games.csv')\n",
    "games['main_category'].value_counts()\n",
    "\n",
    "gamesDiv = ((games['usd_pledged_real'] - games['usd_goal_real']) / abs(games['usd_goal_real'])) * 100 #Percent Change\n",
    "print(gamesDiv) #Result is Percent Gained or Lost after Kickstarter Campaign\n",
    "gamesDiv.describe()\n"
   ],
   "metadata": {
    "collapsed": false,
    "pycharm": {
     "name": "#%%\n"
    }
   }
  },
  {
   "cell_type": "code",
   "execution_count": 93,
   "outputs": [
    {
     "name": "stdout",
     "output_type": "stream",
     "text": [
      "65       -100.000000\n",
      "67       -100.000000\n",
      "71        -99.859000\n",
      "98        -99.987979\n",
      "112       -85.200000\n",
      "             ...    \n",
      "378590    -96.473333\n",
      "378591   -100.000000\n",
      "378611    -99.520000\n",
      "378650   -100.000000\n",
      "378659    -98.666667\n",
      "Length: 20616, dtype: float64\n"
     ]
    },
    {
     "data": {
      "text/plain": "count    20616.000000\nmean       -93.001700\nstd         14.312000\nmin       -100.000000\n25%        -99.990746\n50%        -99.417090\n75%        -93.803767\nmax         -0.934510\ndtype: float64"
     },
     "execution_count": 93,
     "metadata": {},
     "output_type": "execute_result"
    }
   ],
   "source": [
    "#Sorts out Technology and Successful\n",
    "technology = kickstarter.loc[(kickstarter['state'] == \"failed\") & (kickstarter['main_category'] == \"Technology\")]\n",
    "#technology.to_csv('technology.csv')\n",
    "technology['main_category'].value_counts()\n",
    "\n",
    "technologyDiv = ((technology['usd_pledged_real'] - technology['usd_goal_real']) / abs(technology['usd_goal_real'])) * 100 #Percent Change\n",
    "print(technologyDiv) #Result is Percent Gained or Lost after Kickstarter Campaign\n",
    "technologyDiv.describe()"
   ],
   "metadata": {
    "collapsed": false,
    "pycharm": {
     "name": "#%%\n"
    }
   }
  },
  {
   "cell_type": "code",
   "execution_count": 94,
   "outputs": [
    {
     "name": "stdout",
     "output_type": "stream",
     "text": [
      "15        -73.440000\n",
      "75        -56.400048\n",
      "103       -68.800000\n",
      "121       -97.590400\n",
      "143      -100.000000\n",
      "             ...    \n",
      "378498    -99.766668\n",
      "378506    -49.690020\n",
      "378599    -74.866667\n",
      "378615    -83.364238\n",
      "378641   -100.000000\n",
      "Length: 14814, dtype: float64\n"
     ]
    },
    {
     "data": {
      "text/plain": "count    14814.000000\nmean       -86.676331\nstd         18.263617\nmin       -100.000000\n25%        -99.426275\n50%        -94.880476\n75%        -80.803282\nmax          3.050000\ndtype: float64"
     },
     "execution_count": 94,
     "metadata": {},
     "output_type": "execute_result"
    }
   ],
   "source": [
    "#Sorts out Design and Successful\n",
    "design = kickstarter.loc[(kickstarter['state'] == \"failed\") & (kickstarter['main_category'] == \"Design\")]\n",
    "#design.to_csv('design.csv')\n",
    "design['main_category'].value_counts()\n",
    "\n",
    "designDiv = ((design['usd_pledged_real'] - design['usd_goal_real']) / abs(design['usd_goal_real'])) * 100 #Percent Change\n",
    "print(designDiv) #Result is Percent Gained or Lost after Kickstarter Campaign\n",
    "designDiv.describe()"
   ],
   "metadata": {
    "collapsed": false,
    "pycharm": {
     "name": "#%%\n"
    }
   }
  },
  {
   "cell_type": "code",
   "execution_count": 95,
   "outputs": [
    {
     "name": "stdout",
     "output_type": "stream",
     "text": [
      "33        -94.420000\n",
      "38        -99.433333\n",
      "49        -92.500000\n",
      "52        -99.960000\n",
      "62        -88.260000\n",
      "             ...    \n",
      "378473    -91.200000\n",
      "378474   -100.000000\n",
      "378570    -99.700000\n",
      "378574    -99.985000\n",
      "378660    -73.800000\n",
      "Length: 14131, dtype: float64\n"
     ]
    },
    {
     "data": {
      "text/plain": "count    14131.000000\nmean       -90.060719\nstd         15.705639\nmin       -100.000000\n25%        -99.976383\n50%        -97.636329\n75%        -86.514176\nmax         -0.900000\ndtype: float64"
     },
     "execution_count": 95,
     "metadata": {},
     "output_type": "execute_result"
    }
   ],
   "source": [
    "#Sorts out Art and Successful\n",
    "art = kickstarter.loc[(kickstarter['state'] == \"failed\") & (kickstarter['main_category'] == \"Art\")]\n",
    "#art.to_csv('art.csv')\n",
    "art['main_category'].value_counts()\n",
    "\n",
    "artDiv = ((art['usd_pledged_real'] - art['usd_goal_real']) / abs(art['usd_goal_real'])) * 100 #Percent Change\n",
    "print(artDiv) #Result is Percent Gained or Lost after Kickstarter Campaign\n",
    "artDiv.describe()"
   ],
   "metadata": {
    "collapsed": false,
    "pycharm": {
     "name": "#%%\n"
    }
   }
  },
  {
   "cell_type": "code",
   "execution_count": 96,
   "outputs": [
    {
     "name": "stdout",
     "output_type": "stream",
     "text": [
      "21        -99.960022\n",
      "61        -98.858308\n",
      "76       -100.000000\n",
      "80        -96.949974\n",
      "144       -99.000000\n",
      "             ...    \n",
      "378579   -100.000000\n",
      "378607    -99.990000\n",
      "378616    -99.993750\n",
      "378628   -100.000000\n",
      "378633    -53.428000\n",
      "Length: 14182, dtype: float64\n"
     ]
    },
    {
     "data": {
      "text/plain": "count    14182.000000\nmean       -91.512489\nstd         14.542816\nmin       -100.000000\n25%        -99.995000\n50%        -98.500000\n75%        -89.839975\nmax         -0.361291\ndtype: float64"
     },
     "execution_count": 96,
     "metadata": {},
     "output_type": "execute_result"
    }
   ],
   "source": [
    "#Sorts out Fashion and Successful\n",
    "fashion = kickstarter.loc[(kickstarter['state'] == \"failed\") & (kickstarter['main_category'] == \"Fashion\")]\n",
    "#fashion.to_csv('fashion.csv')\n",
    "fashion['main_category'].value_counts()\n",
    "\n",
    "fashionDiv = ((fashion['usd_pledged_real'] - fashion['usd_goal_real']) / abs(fashion['usd_goal_real'])) * 100 #Percent Change\n",
    "print(fashionDiv) #Result is Percent Gained or Lost after Kickstarter Campaign\n",
    "fashionDiv.describe()"
   ],
   "metadata": {
    "collapsed": false,
    "pycharm": {
     "name": "#%%\n"
    }
   }
  },
  {
   "cell_type": "code",
   "execution_count": 97,
   "outputs": [
    {
     "name": "stdout",
     "output_type": "stream",
     "text": [
      "22        -81.428571\n",
      "87        -97.800000\n",
      "445       -72.153846\n",
      "504      -100.000000\n",
      "592      -100.000000\n",
      "             ...    \n",
      "377973    -99.540000\n",
      "378056   -100.000000\n",
      "378239    -72.000000\n",
      "378256    -98.000000\n",
      "378421    -88.571542\n",
      "Length: 3708, dtype: float64\n"
     ]
    },
    {
     "data": {
      "text/plain": "count    3708.000000\nmean      -89.187154\nstd        15.897213\nmin      -100.000000\n25%       -99.872596\n50%       -96.570714\n75%       -84.699962\nmax         0.000000\ndtype: float64"
     },
     "execution_count": 97,
     "metadata": {},
     "output_type": "execute_result"
    }
   ],
   "source": [
    "#Sorts out Theater and Successful\n",
    "theater = kickstarter.loc[(kickstarter['state'] == \"failed\") & (kickstarter['main_category'] == \"Theater\")]\n",
    "#theater.to_csv('theater.csv')\n",
    "theater['main_category'].value_counts()\n",
    "\n",
    "theaterDiv = ((theater['usd_pledged_real'] - theater['usd_goal_real']) / abs(theater['usd_goal_real'])) * 100 #Percent Change\n",
    "print(theaterDiv) #Result is Percent Gained or Lost after Kickstarter Campaign\n",
    "theaterDiv.describe()"
   ],
   "metadata": {
    "collapsed": false,
    "pycharm": {
     "name": "#%%\n"
    }
   }
  },
  {
   "cell_type": "code",
   "execution_count": 98,
   "outputs": [
    {
     "name": "stdout",
     "output_type": "stream",
     "text": [
      "16       -73.666667\n",
      "91       -88.948473\n",
      "241      -95.377763\n",
      "344      -99.923077\n",
      "370      -99.900000\n",
      "            ...    \n",
      "377882   -55.529412\n",
      "377987   -80.200000\n",
      "378015   -74.870588\n",
      "378291   -96.857143\n",
      "378645   -82.887501\n",
      "Length: 4036, dtype: float64\n"
     ]
    },
    {
     "data": {
      "text/plain": "count    4036.000000\nmean      -85.095520\nstd        18.779522\nmin      -100.000000\n25%       -99.019807\n50%       -93.266667\n75%       -77.577500\nmax        -1.375000\ndtype: float64"
     },
     "execution_count": 98,
     "metadata": {},
     "output_type": "execute_result"
    }
   ],
   "source": [
    "#Sorts out Comics and Successful\n",
    "comics = kickstarter.loc[(kickstarter['state'] == \"failed\") & (kickstarter['main_category'] == \"Comics\")]\n",
    "#comics.to_csv('comics.csv')\n",
    "comics['main_category'].value_counts()\n",
    "\n",
    "comicsDiv = ((comics['usd_pledged_real'] - comics['usd_goal_real']) / abs(comics['usd_goal_real'])) * 100 #Percent Change\n",
    "print(comicsDiv) #Result is Percent Gained or Lost after Kickstarter Campaign\n",
    "comicsDiv.describe()"
   ],
   "metadata": {
    "collapsed": false,
    "pycharm": {
     "name": "#%%\n"
    }
   }
  },
  {
   "cell_type": "code",
   "execution_count": 99,
   "outputs": [
    {
     "name": "stdout",
     "output_type": "stream",
     "text": [
      "51        -99.936842\n",
      "125       -82.250000\n",
      "140       -90.500000\n",
      "155       -98.000289\n",
      "195      -100.000000\n",
      "             ...    \n",
      "378137   -100.000000\n",
      "378169    -98.000000\n",
      "378551    -58.919991\n",
      "378627    -68.520057\n",
      "378634    -11.725000\n",
      "Length: 6384, dtype: float64\n"
     ]
    },
    {
     "data": {
      "text/plain": "count    6384.000000\nmean      -91.350891\nstd        14.538648\nmin      -100.000000\n25%       -99.980011\n50%       -98.400000\n75%       -89.109649\nmax        -9.230769\ndtype: float64"
     },
     "execution_count": 99,
     "metadata": {},
     "output_type": "execute_result"
    }
   ],
   "source": [
    "#Sorts out Photography and Successful\n",
    "photography = kickstarter.loc[(kickstarter['state'] == \"failed\") & (kickstarter['main_category'] == \"Photography\")]\n",
    "#photography.to_csv('photography.csv')\n",
    "photography['main_category'].value_counts()\n",
    "\n",
    "photographyDiv = ((photography['usd_pledged_real'] - photography['usd_goal_real']) / abs(photography['usd_goal_real'])) * 100 #Percent Change\n",
    "print(photographyDiv) #Result is Percent Gained or Lost after Kickstarter Campaign\n",
    "photographyDiv.describe()"
   ],
   "metadata": {
    "collapsed": false,
    "pycharm": {
     "name": "#%%\n"
    }
   }
  },
  {
   "cell_type": "code",
   "execution_count": 100,
   "outputs": [
    {
     "name": "stdout",
     "output_type": "stream",
     "text": [
      "12       -100.000000\n",
      "26       -100.000000\n",
      "69        -99.959955\n",
      "225      -100.000000\n",
      "501       -99.272727\n",
      "             ...    \n",
      "377997    -99.899778\n",
      "378108    -94.700000\n",
      "378332    -99.926667\n",
      "378362    -66.360000\n",
      "378554    -98.426617\n",
      "Length: 5703, dtype: float64\n"
     ]
    },
    {
     "data": {
      "text/plain": "count    5703.000000\nmean      -91.946441\nstd        14.079594\nmin      -100.000000\n25%       -99.980000\n50%       -98.533333\n75%       -90.500000\nmax        -3.546667\ndtype: float64"
     },
     "execution_count": 100,
     "metadata": {},
     "output_type": "execute_result"
    }
   ],
   "source": [
    "#Sorts out Crafts and Successful\n",
    "crafts = kickstarter.loc[(kickstarter['state'] == \"failed\") & (kickstarter['main_category'] == \"Crafts\")]\n",
    "#crafts.to_csv('crafts.csv')\n",
    "crafts['main_category'].value_counts()\n",
    "\n",
    "craftsDiv = ((crafts['usd_pledged_real'] - crafts['usd_goal_real']) / abs(crafts['usd_goal_real'])) * 100 #Percent Change\n",
    "print(craftsDiv) #Result is Percent Gained or Lost after Kickstarter Campaign\n",
    "craftsDiv.describe()"
   ],
   "metadata": {
    "collapsed": false,
    "pycharm": {
     "name": "#%%\n"
    }
   }
  },
  {
   "cell_type": "code",
   "execution_count": 101,
   "outputs": [
    {
     "name": "stdout",
     "output_type": "stream",
     "text": [
      "12       -100.000000\n",
      "26       -100.000000\n",
      "69        -99.959955\n",
      "225      -100.000000\n",
      "501       -99.272727\n",
      "             ...    \n",
      "377997    -99.899778\n",
      "378108    -94.700000\n",
      "378332    -99.926667\n",
      "378362    -66.360000\n",
      "378554    -98.426617\n",
      "Length: 5703, dtype: float64\n"
     ]
    },
    {
     "data": {
      "text/plain": "count    3137.000000\nmean      -95.027755\nstd        10.989529\nmin      -100.000000\n25%      -100.000000\n50%       -99.699819\n75%       -95.966667\nmax        -3.333333\ndtype: float64"
     },
     "execution_count": 101,
     "metadata": {},
     "output_type": "execute_result"
    }
   ],
   "source": [
    "#Sorts out Journalism and Successful\n",
    "journalism = kickstarter.loc[(kickstarter['state'] == \"failed\") & (kickstarter['main_category'] == \"Journalism\")]\n",
    "#journalism.to_csv('journalism.csv')\n",
    "journalism['main_category'].value_counts()\n",
    "\n",
    "journalismDiv = ((journalism['usd_pledged_real'] - journalism['usd_goal_real']) / abs(journalism['usd_goal_real'])) * 100 #Percent Change\n",
    "print(craftsDiv) #Result is Percent Gained or Lost after Kickstarter Campaign\n",
    "journalismDiv.describe()"
   ],
   "metadata": {
    "collapsed": false,
    "pycharm": {
     "name": "#%%\n"
    }
   }
  },
  {
   "cell_type": "code",
   "execution_count": 102,
   "outputs": [
    {
     "name": "stdout",
     "output_type": "stream",
     "text": [
      "122      -100.000000\n",
      "253       -64.444444\n",
      "350       -99.833333\n",
      "1095      -59.019582\n",
      "1107      -98.650000\n",
      "             ...    \n",
      "377532    -82.608696\n",
      "377601    -95.405266\n",
      "377792    -70.000000\n",
      "378364    -94.290025\n",
      "378458    -56.933333\n",
      "Length: 1235, dtype: float64\n"
     ]
    },
    {
     "data": {
      "text/plain": "count    1235.000000\nmean      -89.485875\nstd        15.360968\nmin      -100.000000\n25%       -99.919957\n50%       -96.684000\n75%       -84.845833\nmax        -6.633333\ndtype: float64"
     },
     "execution_count": 102,
     "metadata": {},
     "output_type": "execute_result"
    }
   ],
   "source": [
    "#Sorts out Dance and Successful\n",
    "dance = kickstarter.loc[(kickstarter['state'] == \"failed\") & (kickstarter['main_category'] == \"Dance\")]\n",
    "#dance.to_csv('dance.csv')\n",
    "dance['main_category'].value_counts()\n",
    "\n",
    "danceDiv = ((dance['usd_pledged_real'] - dance['usd_goal_real']) / abs(dance['usd_goal_real'])) * 100 #Percent Change\n",
    "print(danceDiv) #Result is Percent Gained or Lost after Kickstarter Campaign\n",
    "danceDiv.describe()\n",
    "\n",
    "\n",
    "\n",
    "\n"
   ],
   "metadata": {
    "collapsed": false,
    "pycharm": {
     "name": "#%%\n"
    }
   }
  }
 ],
 "metadata": {
  "kernelspec": {
   "display_name": "Python 3",
   "language": "python",
   "name": "python3"
  },
  "language_info": {
   "codemirror_mode": {
    "name": "ipython",
    "version": 3
   },
   "file_extension": ".py",
   "mimetype": "text/x-python",
   "name": "python",
   "nbconvert_exporter": "python",
   "pygments_lexer": "ipython3",
   "version": "3.8.8"
  },
  "widgets": {
   "application/vnd.jupyter.widget-state+json": {
    "state": {},
    "version_major": 2,
    "version_minor": 0
   }
  }
 },
 "nbformat": 4,
 "nbformat_minor": 1
}