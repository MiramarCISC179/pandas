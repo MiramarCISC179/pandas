{
 "cells": [
  {
   "cell_type": "code",
   "execution_count": 213,
   "metadata": {
    "pycharm": {
     "name": "#%%\n"
    }
   },
   "outputs": [
    {
     "data": {
      "text/plain": "           ID                                               name  \\\n0  1000002330                    The Songs of Adelaide & Abullah   \n1  1000003930      Greeting From Earth: ZGAC Arts Capsule For ET   \n2  1000004038                                     Where is Hank?   \n3  1000007540  ToshiCapital Rekordz Needs Help to Complete Album   \n4  1000011046  Community Film Project: The Art of Neighborhoo...   \n\n         category main_category currency   deadline     goal         launched  \\\n0          Poetry    Publishing      GBP  10/9/2015   1000.0  8/11/2015 12:12   \n1  Narrative Film  Film & Video      USD  11/1/2017  30000.0    9/2/2017 4:43   \n2  Narrative Film  Film & Video      USD  2/26/2013  45000.0   1/12/2013 0:20   \n3           Music         Music      USD  4/16/2012   5000.0   3/17/2012 3:24   \n4    Film & Video  Film & Video      USD  8/29/2015  19500.0    7/4/2015 8:35   \n\n   pledged     state  backers country  usd pledged  usd_pledged_real  \\\n0      0.0    failed        0      GB          0.0               0.0   \n1   2421.0    failed       15      US        100.0            2421.0   \n2    220.0    failed        3      US        220.0             220.0   \n3      1.0    failed        1      US          1.0               1.0   \n4   1283.0  canceled       14      US       1283.0            1283.0   \n\n   usd_goal_real  \n0        1533.95  \n1       30000.00  \n2       45000.00  \n3        5000.00  \n4       19500.00  ",
      "text/html": "<div>\n<style scoped>\n    .dataframe tbody tr th:only-of-type {\n        vertical-align: middle;\n    }\n\n    .dataframe tbody tr th {\n        vertical-align: top;\n    }\n\n    .dataframe thead th {\n        text-align: right;\n    }\n</style>\n<table border=\"1\" class=\"dataframe\">\n  <thead>\n    <tr style=\"text-align: right;\">\n      <th></th>\n      <th>ID</th>\n      <th>name</th>\n      <th>category</th>\n      <th>main_category</th>\n      <th>currency</th>\n      <th>deadline</th>\n      <th>goal</th>\n      <th>launched</th>\n      <th>pledged</th>\n      <th>state</th>\n      <th>backers</th>\n      <th>country</th>\n      <th>usd pledged</th>\n      <th>usd_pledged_real</th>\n      <th>usd_goal_real</th>\n    </tr>\n  </thead>\n  <tbody>\n    <tr>\n      <th>0</th>\n      <td>1000002330</td>\n      <td>The Songs of Adelaide &amp; Abullah</td>\n      <td>Poetry</td>\n      <td>Publishing</td>\n      <td>GBP</td>\n      <td>10/9/2015</td>\n      <td>1000.0</td>\n      <td>8/11/2015 12:12</td>\n      <td>0.0</td>\n      <td>failed</td>\n      <td>0</td>\n      <td>GB</td>\n      <td>0.0</td>\n      <td>0.0</td>\n      <td>1533.95</td>\n    </tr>\n    <tr>\n      <th>1</th>\n      <td>1000003930</td>\n      <td>Greeting From Earth: ZGAC Arts Capsule For ET</td>\n      <td>Narrative Film</td>\n      <td>Film &amp; Video</td>\n      <td>USD</td>\n      <td>11/1/2017</td>\n      <td>30000.0</td>\n      <td>9/2/2017 4:43</td>\n      <td>2421.0</td>\n      <td>failed</td>\n      <td>15</td>\n      <td>US</td>\n      <td>100.0</td>\n      <td>2421.0</td>\n      <td>30000.00</td>\n    </tr>\n    <tr>\n      <th>2</th>\n      <td>1000004038</td>\n      <td>Where is Hank?</td>\n      <td>Narrative Film</td>\n      <td>Film &amp; Video</td>\n      <td>USD</td>\n      <td>2/26/2013</td>\n      <td>45000.0</td>\n      <td>1/12/2013 0:20</td>\n      <td>220.0</td>\n      <td>failed</td>\n      <td>3</td>\n      <td>US</td>\n      <td>220.0</td>\n      <td>220.0</td>\n      <td>45000.00</td>\n    </tr>\n    <tr>\n      <th>3</th>\n      <td>1000007540</td>\n      <td>ToshiCapital Rekordz Needs Help to Complete Album</td>\n      <td>Music</td>\n      <td>Music</td>\n      <td>USD</td>\n      <td>4/16/2012</td>\n      <td>5000.0</td>\n      <td>3/17/2012 3:24</td>\n      <td>1.0</td>\n      <td>failed</td>\n      <td>1</td>\n      <td>US</td>\n      <td>1.0</td>\n      <td>1.0</td>\n      <td>5000.00</td>\n    </tr>\n    <tr>\n      <th>4</th>\n      <td>1000011046</td>\n      <td>Community Film Project: The Art of Neighborhoo...</td>\n      <td>Film &amp; Video</td>\n      <td>Film &amp; Video</td>\n      <td>USD</td>\n      <td>8/29/2015</td>\n      <td>19500.0</td>\n      <td>7/4/2015 8:35</td>\n      <td>1283.0</td>\n      <td>canceled</td>\n      <td>14</td>\n      <td>US</td>\n      <td>1283.0</td>\n      <td>1283.0</td>\n      <td>19500.00</td>\n    </tr>\n  </tbody>\n</table>\n</div>"
     },
     "execution_count": 213,
     "metadata": {},
     "output_type": "execute_result"
    }
   ],
   "source": [
    "\"\"\"Analyzing Successful Kickstarter Campaigns\"\"\"\n",
    "\n",
    "import pandas as pd\n",
    "import numpy as np\n",
    "import matplotlib.pyplot as plt\n",
    "\n",
    "#importing CSV File\n",
    "kickstarter = pd.read_csv('ks-projects-201801.csv') \n",
    "\n",
    "#Displays the Header Names for Columns\n",
    "kickstarter.head()"
   ]
  },
  {
   "cell_type": "code",
   "execution_count": 214,
   "outputs": [
    {
     "data": {
      "text/plain": "0           failed\n1           failed\n2           failed\n3           failed\n4         canceled\n            ...   \n378656    canceled\n378657      failed\n378658      failed\n378659      failed\n378660      failed\nName: state, Length: 378661, dtype: object"
     },
     "execution_count": 214,
     "metadata": {},
     "output_type": "execute_result"
    }
   ],
   "source": [
    "#Displays Out the State of the Kickstarter\n",
    "kickstarter['state']"
   ],
   "metadata": {
    "collapsed": false,
    "pycharm": {
     "name": "#%%\n"
    }
   }
  },
  {
   "cell_type": "code",
   "execution_count": 215,
   "outputs": [
    {
     "data": {
      "text/plain": "failed        197719\nsuccessful    133956\ncanceled       38779\nundefined       3562\nlive            2799\nsuspended       1846\nName: state, dtype: int64"
     },
     "execution_count": 215,
     "metadata": {},
     "output_type": "execute_result"
    }
   ],
   "source": [
    "#Displays Out the Number of Outcomes of the Kickstarter Campaigns\n",
    "kickstarter['state'].value_counts()\n",
    "\n",
    "#The Result says There are 133956 Successful Kickstarter Campaigns"
   ],
   "metadata": {
    "collapsed": false,
    "pycharm": {
     "name": "#%%\n"
    }
   }
  },
  {
   "cell_type": "code",
   "execution_count": 216,
   "outputs": [
    {
     "data": {
      "text/plain": "ID          name                                                                              category         main_category  currency  deadline    goal     launched         pledged   state       backers  country  usd pledged  usd_pledged_real  usd_goal_real\n21109       Meta                                                                              Performance Art  Art            GBP       5/6/2015    150.0    4/8/2015 0:37    173.0     successful  11       GB       258.04       266.65            231.20           1\n1431891771  Cover Album Mismatch                                                              Music            Music          USD       3/15/2017   150.0    1/14/2017 21:53  340.0     successful  16       US       0.00         340.00            150.00           1\n1431836743  Soundbytes 5 - Live Chipmusic Show! Come and party with us and get awesome merch  Music            Music          USD       11/6/2009   700.0    9/10/2009 14:18  1442.0    successful  41       US       1442.00      1442.00           700.00           1\n1431831022  Endor - Tabletop Wargaming Terrain                                                Tabletop Games   Games          NZD       12/2/2017   1000.0   11/12/2017 9:44  39245.0   successful  220      NZ       7304.41      26858.06          684.37           1\n1431820472  Snouts for Sanctuaries Enamel Pins                                                Accessories      Fashion        USD       11/23/2017  215.0    11/9/2017 23:49  305.0     successful  13       US       0.00         305.00            215.00           1\n                                                                                                                                                                                                                                                                     ..\n717253006   Musical Exploration of Africa                                                     World Music      Music          USD       8/21/2014   1000.0   7/22/2014 3:19   1000.0    successful  8        US       1000.00      1000.00           1000.00          1\n717252902   the Sun-Bedazzler!                                                                Design           Design         USD       8/20/2012   4500.0   7/9/2012 22:39   4589.5    successful  53       US       4589.50      4589.50           4500.00          1\n717229878   God's Ear: An Independent Theatre Production                                      Experimental     Theater        USD       5/22/2016   1500.0   5/1/2016 10:18   1620.0    successful  29       US       1620.00      1620.00           1500.00          1\n717225106   Black Tape for a Blue Girl goes to EUROPE!                                        Indie Rock       Music          USD       6/5/2011    1500.0   5/2/2011 17:56   2527.0    successful  26       US       2527.00      2527.00           1500.00          1\n2147476221  DrinkTanks Offers the World's Largest Growler & Personal Keg                      Drinks           Food           USD       4/10/2015   75000.0  3/2/2015 16:14   304142.0  successful  2076     US       304142.00    304142.00         75000.00         1\nLength: 133851, dtype: int64"
     },
     "execution_count": 216,
     "metadata": {},
     "output_type": "execute_result"
    }
   ],
   "source": [
    "#Displays Out the Successful Kickstarter Campaigns\n",
    "kickstarter.loc[kickstarter['state'] == \"successful\"].value_counts()\n"
   ],
   "metadata": {
    "collapsed": false,
    "pycharm": {
     "name": "#%%\n"
    }
   }
  },
  {
   "cell_type": "code",
   "execution_count": 217,
   "outputs": [
    {
     "data": {
      "text/plain": "Film & Video    63585\nMusic           51918\nPublishing      39874\nGames           35231\nTechnology      32569\nDesign          30070\nArt             28153\nFood            24602\nFashion         22816\nTheater         10913\nComics          10819\nPhotography     10779\nCrafts           8809\nJournalism       4755\nDance            3768\nName: main_category, dtype: int64"
     },
     "execution_count": 217,
     "metadata": {},
     "output_type": "execute_result"
    }
   ],
   "source": [
    "#Displays Out the Number of Categories\n",
    "kickstarter['main_category'].value_counts()"
   ],
   "metadata": {
    "collapsed": false,
    "pycharm": {
     "name": "#%%\n"
    }
   }
  },
  {
   "cell_type": "code",
   "execution_count": 218,
   "outputs": [
    {
     "name": "stdout",
     "output_type": "stream",
     "text": [
      "5           4.750000\n",
      "6          20.500000\n",
      "46         58.502500\n",
      "63        733.320000\n",
      "105       136.365000\n",
      "             ...    \n",
      "378535     56.666667\n",
      "378539    340.000000\n",
      "378545     18.526316\n",
      "378561      7.460000\n",
      "378639     11.580000\n",
      "Length: 6085, dtype: float64\n"
     ]
    },
    {
     "data": {
      "text/plain": "count      6085.000000\nmean        212.942242\nstd        7295.809044\nmin           0.000000\n25%           3.700000\n50%          11.855000\n75%          39.400000\nmax      554828.300000\ndtype: float64"
     },
     "execution_count": 218,
     "metadata": {},
     "output_type": "execute_result"
    }
   ],
   "source": [
    "#Sorts out Food and Successful\n",
    "food = kickstarter.loc[(kickstarter['state'] == \"successful\") & (kickstarter['main_category'] == \"Food\")]\n",
    "food.to_csv('food.csv')\n",
    "food['main_category'].value_counts()\n",
    "\n",
    "foodDiv = ((food['usd_pledged_real'] - food['usd_goal_real']) / abs(food['usd_goal_real'])) * 100 #Percent Change\n",
    "print(foodDiv) #Result is Percent Gained or Lost after Kickstarter Campaign\n",
    "foodDiv.describe()\n",
    "#foodPlot = pd.read_csv('food.csv')"
   ],
   "metadata": {
    "collapsed": false,
    "pycharm": {
     "name": "#%%\n"
    }
   }
  },
  {
   "cell_type": "code",
   "execution_count": 219,
   "outputs": [
    {
     "name": "stdout",
     "output_type": "stream",
     "text": [
      "27        175.412524\n",
      "29         15.154620\n",
      "37         56.630000\n",
      "47         17.512500\n",
      "50          2.275267\n",
      "             ...    \n",
      "378604     30.300000\n",
      "378609    201.040000\n",
      "378623      0.000000\n",
      "378637      2.450000\n",
      "378652      7.500028\n",
      "Length: 23623, dtype: float64\n"
     ]
    },
    {
     "data": {
      "text/plain": "count    2.362300e+04\nmean     2.766287e+02\nstd      1.290843e+04\nmin     -1.467778e+01\n25%      2.533333e+00\n50%      8.750000e+00\n75%      2.564442e+01\nmax      1.506500e+06\ndtype: float64"
     },
     "execution_count": 219,
     "metadata": {},
     "output_type": "execute_result"
    }
   ],
   "source": [
    "#Sorts out Film & Video and Successful\n",
    "filmAndVideo = kickstarter.loc[(kickstarter['state'] == \"successful\") & (kickstarter['main_category'] == \"Film & Video\")]\n",
    "#filmAndVideo.to_csv('filmAndVideo.csv')\n",
    "filmAndVideo['main_category'].value_counts()\n",
    "\n",
    "filmAndVideoDiv = ((filmAndVideo['usd_pledged_real'] - filmAndVideo['usd_goal_real']) / abs(filmAndVideo['usd_goal_real'])) * 100 #Percent Change\n",
    "print(filmAndVideoDiv) #Result is Percent Gained or Lost after Kickstarter Campaign\n",
    "filmAndVideoDiv.describe()\n"
   ],
   "metadata": {
    "collapsed": false,
    "pycharm": {
     "name": "#%%\n"
    }
   }
  },
  {
   "cell_type": "code",
   "execution_count": 220,
   "outputs": [
    {
     "name": "stdout",
     "output_type": "stream",
     "text": [
      "11          1.600000\n",
      "18          0.000000\n",
      "25         58.270000\n",
      "34         10.500000\n",
      "36        116.033500\n",
      "             ...    \n",
      "378614     23.000000\n",
      "378617      0.500000\n",
      "378622      3.000000\n",
      "378636      8.700018\n",
      "378651     10.019846\n",
      "Length: 24197, dtype: float64\n"
     ]
    },
    {
     "data": {
      "text/plain": "count    2.419700e+04\nmean     1.564916e+03\nstd      9.066720e+04\nmin      0.000000e+00\n25%      3.574000e+00\n50%      1.066600e+01\n75%      2.916667e+01\nmax      1.042769e+07\ndtype: float64"
     },
     "execution_count": 220,
     "metadata": {},
     "output_type": "execute_result"
    }
   ],
   "source": [
    "#Sorts out Music and Successful\n",
    "music = kickstarter.loc[(kickstarter['state'] == \"successful\") & (kickstarter['main_category'] == \"Music\")]\n",
    "#music.to_csv('music.csv')\n",
    "music['main_category'].value_counts()\n",
    "\n",
    "musicDiv = ((music['usd_pledged_real'] - music['usd_goal_real']) / abs(music['usd_goal_real'])) * 100 #Percent Change\n",
    "print(musicDiv) #Result is Percent Gained or Lost after Kickstarter Campaign\n",
    "musicDiv.describe()\n"
   ],
   "metadata": {
    "collapsed": false,
    "pycharm": {
     "name": "#%%\n"
    }
   }
  },
  {
   "cell_type": "code",
   "execution_count": 221,
   "outputs": [
    {
     "name": "stdout",
     "output_type": "stream",
     "text": [
      "102         5.500000\n",
      "134        81.071429\n",
      "138         5.500000\n",
      "158       188.350000\n",
      "173        26.666667\n",
      "             ...    \n",
      "378536      6.484211\n",
      "378553      2.125000\n",
      "378594     30.769231\n",
      "378600     21.400000\n",
      "378646     82.317895\n",
      "Length: 12300, dtype: float64\n"
     ]
    },
    {
     "data": {
      "text/plain": "count    1.230000e+04\nmean     4.368409e+02\nstd      2.217386e+04\nmin      0.000000e+00\n25%      4.888095e+00\n50%      1.631250e+01\n75%      5.250765e+01\nmax      2.303507e+06\ndtype: float64"
     },
     "execution_count": 221,
     "metadata": {},
     "output_type": "execute_result"
    }
   ],
   "source": [
    "#Sorts out Publishing and Successful\n",
    "publishing = kickstarter.loc[(kickstarter['state'] == \"successful\") & (kickstarter['main_category'] == \"Publishing\")]\n",
    "#publishing.to_csv('publishing.csv')\n",
    "publishing['main_category'].value_counts()\n",
    "\n",
    "publishingDiv = ((publishing['usd_pledged_real'] - publishing['usd_goal_real']) / abs(publishing['usd_goal_real'])) * 100 #Percent Change\n",
    "print(publishingDiv) #Result is Percent Gained or Lost after Kickstarter Campaign\n",
    "publishingDiv.describe()\n"
   ],
   "metadata": {
    "collapsed": false,
    "pycharm": {
     "name": "#%%\n"
    }
   }
  },
  {
   "cell_type": "code",
   "execution_count": 222,
   "outputs": [
    {
     "name": "stdout",
     "output_type": "stream",
     "text": [
      "14        1783.499466\n",
      "48         170.166667\n",
      "59          48.796000\n",
      "90         124.760210\n",
      "111          3.943590\n",
      "             ...     \n",
      "378494    1569.181818\n",
      "378546      16.711000\n",
      "378564    2793.100000\n",
      "378631      38.615000\n",
      "378642      24.600669\n",
      "Length: 12518, dtype: float64\n"
     ]
    },
    {
     "data": {
      "text/plain": "count    1.251800e+04\nmean     1.776288e+03\nstd      5.389795e+04\nmin      0.000000e+00\n25%      2.112712e+01\n50%      9.100030e+01\n75%      3.261475e+02\nmax      4.153401e+06\ndtype: float64"
     },
     "execution_count": 222,
     "metadata": {},
     "output_type": "execute_result"
    }
   ],
   "source": [
    "#Sorts out Games and Successful\n",
    "games = kickstarter.loc[(kickstarter['state'] == \"successful\") & (kickstarter['main_category'] == \"Games\")]\n",
    "#games.to_csv('games.csv')\n",
    "games['main_category'].value_counts()\n",
    "\n",
    "gamesDiv = ((games['usd_pledged_real'] - games['usd_goal_real']) / abs(games['usd_goal_real'])) * 100 #Percent Change\n",
    "print(gamesDiv) #Result is Percent Gained or Lost after Kickstarter Campaign\n",
    "gamesDiv.describe()\n"
   ],
   "metadata": {
    "collapsed": false,
    "pycharm": {
     "name": "#%%\n"
    }
   }
  },
  {
   "cell_type": "code",
   "execution_count": 223,
   "outputs": [
    {
     "name": "stdout",
     "output_type": "stream",
     "text": [
      "154         7.276800\n",
      "187        17.642151\n",
      "194         3.054518\n",
      "244         0.000000\n",
      "261        30.127263\n",
      "             ...    \n",
      "378207     44.822222\n",
      "378237      1.864503\n",
      "378293     61.330533\n",
      "378562    138.800000\n",
      "378578     95.279991\n",
      "Length: 6434, dtype: float64\n"
     ]
    },
    {
     "data": {
      "text/plain": "count    6.434000e+03\nmean     1.160200e+03\nstd      3.322470e+04\nmin      0.000000e+00\n25%      1.200575e+01\n50%      6.105133e+01\n75%      2.487162e+02\nmax      2.260200e+06\ndtype: float64"
     },
     "execution_count": 223,
     "metadata": {},
     "output_type": "execute_result"
    }
   ],
   "source": [
    "#Sorts out Technology and Successful\n",
    "technology = kickstarter.loc[(kickstarter['state'] == \"successful\") & (kickstarter['main_category'] == \"Technology\")]\n",
    "#technology.to_csv('technology.csv')\n",
    "technology['main_category'].value_counts()\n",
    "\n",
    "technologyDiv = ((technology['usd_pledged_real'] - technology['usd_goal_real']) / abs(technology['usd_goal_real'])) * 100 #Percent Change\n",
    "print(technologyDiv) #Result is Percent Gained or Lost after Kickstarter Campaign\n",
    "technologyDiv.describe()"
   ],
   "metadata": {
    "collapsed": false,
    "pycharm": {
     "name": "#%%\n"
    }
   }
  },
  {
   "cell_type": "code",
   "execution_count": 224,
   "outputs": [
    {
     "name": "stdout",
     "output_type": "stream",
     "text": [
      "31        4626.600000\n",
      "32           0.000000\n",
      "175        954.678750\n",
      "186        428.140000\n",
      "200         12.025714\n",
      "             ...     \n",
      "378382     533.093333\n",
      "378472      85.585586\n",
      "378482      28.833333\n",
      "378521      20.120104\n",
      "378644      76.257143\n",
      "Length: 10550, dtype: float64\n"
     ]
    },
    {
     "data": {
      "text/plain": "count     10550.000000\nmean        430.614773\nstd        3186.602092\nmin          -0.430016\n25%          12.685533\n50%          61.723123\n75%         251.467609\nmax      206600.000000\ndtype: float64"
     },
     "execution_count": 224,
     "metadata": {},
     "output_type": "execute_result"
    }
   ],
   "source": [
    "#Sorts out Design and Successful\n",
    "design = kickstarter.loc[(kickstarter['state'] == \"successful\") & (kickstarter['main_category'] == \"Design\")]\n",
    "#design.to_csv('design.csv')\n",
    "design['main_category'].value_counts()\n",
    "\n",
    "designDiv = ((design['usd_pledged_real'] - design['usd_goal_real']) / abs(design['usd_goal_real'])) * 100 #Percent Change\n",
    "print(designDiv) #Result is Percent Gained or Lost after Kickstarter Campaign\n",
    "designDiv.describe()"
   ],
   "metadata": {
    "collapsed": false,
    "pycharm": {
     "name": "#%%\n"
    }
   }
  },
  {
   "cell_type": "code",
   "execution_count": 225,
   "outputs": [
    {
     "name": "stdout",
     "output_type": "stream",
     "text": [
      "116         4.500000\n",
      "130        32.821250\n",
      "139       262.230769\n",
      "142         1.033162\n",
      "191       133.454545\n",
      "             ...    \n",
      "378517    165.440000\n",
      "378541     11.750000\n",
      "378560      0.163953\n",
      "378612     11.687500\n",
      "378630     13.267280\n",
      "Length: 11510, dtype: float64\n"
     ]
    },
    {
     "data": {
      "text/plain": "count    1.151000e+04\nmean     4.916396e+02\nstd      2.740295e+04\nmin     -1.700000e-02\n25%      4.273173e+00\n50%      1.625000e+01\n75%      5.623750e+01\nmax      2.758723e+06\ndtype: float64"
     },
     "execution_count": 225,
     "metadata": {},
     "output_type": "execute_result"
    }
   ],
   "source": [
    "#Sorts out Art and Successful\n",
    "art = kickstarter.loc[(kickstarter['state'] == \"successful\") & (kickstarter['main_category'] == \"Art\")]\n",
    "#art.to_csv('art.csv')\n",
    "art['main_category'].value_counts()\n",
    "\n",
    "artDiv = ((art['usd_pledged_real'] - art['usd_goal_real']) / abs(art['usd_goal_real'])) * 100 #Percent Change\n",
    "print(artDiv) #Result is Percent Gained or Lost after Kickstarter Campaign\n",
    "artDiv.describe()"
   ],
   "metadata": {
    "collapsed": false,
    "pycharm": {
     "name": "#%%\n"
    }
   }
  },
  {
   "cell_type": "code",
   "execution_count": 226,
   "outputs": [
    {
     "name": "stdout",
     "output_type": "stream",
     "text": [
      "20          71.340000\n",
      "84          50.964000\n",
      "108          8.481481\n",
      "109          3.142857\n",
      "162        152.787972\n",
      "             ...     \n",
      "378466      68.960000\n",
      "378540    4946.220000\n",
      "378559     155.000000\n",
      "378621      42.156667\n",
      "378625       0.125000\n",
      "Length: 5593, dtype: float64\n"
     ]
    },
    {
     "data": {
      "text/plain": "count      5593.000000\nmean        248.442739\nstd        6340.380533\nmin           0.000000\n25%           5.666667\n50%          21.540106\n75%          86.242424\nmax      468300.000000\ndtype: float64"
     },
     "execution_count": 226,
     "metadata": {},
     "output_type": "execute_result"
    }
   ],
   "source": [
    "#Sorts out Fashion and Successful\n",
    "fashion = kickstarter.loc[(kickstarter['state'] == \"successful\") & (kickstarter['main_category'] == \"Fashion\")]\n",
    "#fashion.to_csv('fashion.csv')\n",
    "fashion['main_category'].value_counts()\n",
    "\n",
    "fashionDiv = ((fashion['usd_pledged_real'] - fashion['usd_goal_real']) / abs(fashion['usd_goal_real'])) * 100 #Percent Change\n",
    "print(fashionDiv) #Result is Percent Gained or Lost after Kickstarter Campaign\n",
    "fashionDiv.describe()"
   ],
   "metadata": {
    "collapsed": false,
    "pycharm": {
     "name": "#%%\n"
    }
   }
  },
  {
   "cell_type": "code",
   "execution_count": 227,
   "outputs": [
    {
     "name": "stdout",
     "output_type": "stream",
     "text": [
      "66         2.833333\n",
      "77         8.760133\n",
      "92         3.750000\n",
      "153       10.866667\n",
      "209       20.325000\n",
      "            ...    \n",
      "378260    52.500000\n",
      "378282     0.631373\n",
      "378317     0.000000\n",
      "378457    11.900000\n",
      "378493    11.000000\n",
      "Length: 6534, dtype: float64\n"
     ]
    },
    {
     "data": {
      "text/plain": "count      6534.000000\nmean         59.898758\nstd        1981.280047\nmin           0.000000\n25%           2.400000\n50%           8.347222\n75%          22.067720\nmax      115700.000000\ndtype: float64"
     },
     "execution_count": 227,
     "metadata": {},
     "output_type": "execute_result"
    }
   ],
   "source": [
    "#Sorts out Theater and Successful\n",
    "theater = kickstarter.loc[(kickstarter['state'] == \"successful\") & (kickstarter['main_category'] == \"Theater\")]\n",
    "#theater.to_csv('theater.csv')\n",
    "theater['main_category'].value_counts()\n",
    "\n",
    "theaterDiv = ((theater['usd_pledged_real'] - theater['usd_goal_real']) / abs(theater['usd_goal_real'])) * 100 #Percent Change\n",
    "print(theaterDiv) #Result is Percent Gained or Lost after Kickstarter Campaign\n",
    "theaterDiv.describe()"
   ],
   "metadata": {
    "collapsed": false,
    "pycharm": {
     "name": "#%%\n"
    }
   }
  },
  {
   "cell_type": "code",
   "execution_count": 228,
   "outputs": [
    {
     "name": "stdout",
     "output_type": "stream",
     "text": [
      "24        300.948571\n",
      "28         12.378420\n",
      "85         23.612349\n",
      "208        91.079976\n",
      "228        29.250000\n",
      "             ...    \n",
      "378147    368.057692\n",
      "378209     84.598879\n",
      "378449     86.086957\n",
      "378489     31.874441\n",
      "378582    351.400000\n",
      "Length: 5842, dtype: float64\n"
     ]
    },
    {
     "data": {
      "text/plain": "count      5842.000000\nmean       1064.290378\nstd       15325.900875\nmin           0.000000\n25%          12.080455\n50%          38.300909\n75%         121.840861\nmax      551300.000000\ndtype: float64"
     },
     "execution_count": 228,
     "metadata": {},
     "output_type": "execute_result"
    }
   ],
   "source": [
    "#Sorts out Comics and Successful\n",
    "comics = kickstarter.loc[(kickstarter['state'] == \"successful\") & (kickstarter['main_category'] == \"Comics\")]\n",
    "#comics.to_csv('comics.csv')\n",
    "comics['main_category'].value_counts()\n",
    "\n",
    "comicsDiv = ((comics['usd_pledged_real'] - comics['usd_goal_real']) / abs(comics['usd_goal_real'])) * 100 #Percent Change\n",
    "print(comicsDiv) #Result is Percent Gained or Lost after Kickstarter Campaign\n",
    "comicsDiv.describe()"
   ],
   "metadata": {
    "collapsed": false,
    "pycharm": {
     "name": "#%%\n"
    }
   }
  },
  {
   "cell_type": "code",
   "execution_count": 229,
   "outputs": [
    {
     "name": "stdout",
     "output_type": "stream",
     "text": [
      "42         59.380000\n",
      "53         21.654250\n",
      "254       268.999838\n",
      "336         0.366667\n",
      "369         3.472222\n",
      "             ...    \n",
      "378394     29.766667\n",
      "378419      3.846154\n",
      "378430      0.000000\n",
      "378451      9.342857\n",
      "378556      4.687500\n",
      "Length: 3305, dtype: float64\n"
     ]
    },
    {
     "data": {
      "text/plain": "count    3305.000000\nmean       70.283710\nstd       239.141662\nmin         0.000000\n25%         4.999661\n50%        16.300500\n75%        52.028571\nmax      8400.000000\ndtype: float64"
     },
     "execution_count": 229,
     "metadata": {},
     "output_type": "execute_result"
    }
   ],
   "source": [
    "#Sorts out Photography and Successful\n",
    "photography = kickstarter.loc[(kickstarter['state'] == \"successful\") & (kickstarter['main_category'] == \"Photography\")]\n",
    "#photography.to_csv('photography.csv')\n",
    "photography['main_category'].value_counts()\n",
    "\n",
    "photographyDiv = ((photography['usd_pledged_real'] - photography['usd_goal_real']) / abs(photography['usd_goal_real'])) * 100 #Percent Change\n",
    "print(photographyDiv) #Result is Percent Gained or Lost after Kickstarter Campaign\n",
    "photographyDiv.describe()"
   ],
   "metadata": {
    "collapsed": false,
    "pycharm": {
     "name": "#%%\n"
    }
   }
  },
  {
   "cell_type": "code",
   "execution_count": 230,
   "outputs": [
    {
     "name": "stdout",
     "output_type": "stream",
     "text": [
      "295       303.591553\n",
      "471         1.250000\n",
      "513         0.000000\n",
      "565       260.000000\n",
      "1174      480.000000\n",
      "             ...    \n",
      "377824     13.125000\n",
      "378334      7.246154\n",
      "378383     25.799093\n",
      "378388     11.516667\n",
      "378558     45.799837\n",
      "Length: 2115, dtype: float64\n"
     ]
    },
    {
     "data": {
      "text/plain": "count    2.115000e+03\nmean     8.828536e+02\nstd      2.755057e+04\nmin      0.000000e+00\n25%      9.909524e+00\n50%      3.824000e+01\n75%      1.558429e+02\nmax      1.257415e+06\ndtype: float64"
     },
     "execution_count": 230,
     "metadata": {},
     "output_type": "execute_result"
    }
   ],
   "source": [
    "#Sorts out Crafts and Successful\n",
    "crafts = kickstarter.loc[(kickstarter['state'] == \"successful\") & (kickstarter['main_category'] == \"Crafts\")]\n",
    "#crafts.to_csv('crafts.csv')\n",
    "crafts['main_category'].value_counts()\n",
    "\n",
    "craftsDiv = ((crafts['usd_pledged_real'] - crafts['usd_goal_real']) / abs(crafts['usd_goal_real'])) * 100 #Percent Change\n",
    "print(craftsDiv) #Result is Percent Gained or Lost after Kickstarter Campaign\n",
    "craftsDiv.describe()"
   ],
   "metadata": {
    "collapsed": false,
    "pycharm": {
     "name": "#%%\n"
    }
   }
  },
  {
   "cell_type": "code",
   "execution_count": 231,
   "outputs": [
    {
     "name": "stdout",
     "output_type": "stream",
     "text": [
      "295       303.591553\n",
      "471         1.250000\n",
      "513         0.000000\n",
      "565       260.000000\n",
      "1174      480.000000\n",
      "             ...    \n",
      "377824     13.125000\n",
      "378334      7.246154\n",
      "378383     25.799093\n",
      "378388     11.516667\n",
      "378558     45.799837\n",
      "Length: 2115, dtype: float64\n"
     ]
    },
    {
     "data": {
      "text/plain": "count     1012.000000\nmean       116.340912\nstd       2201.346112\nmin          0.000000\n25%          3.099009\n50%         13.041811\n75%         38.118382\nmax      69932.330827\ndtype: float64"
     },
     "execution_count": 231,
     "metadata": {},
     "output_type": "execute_result"
    }
   ],
   "source": [
    "#Sorts out Journalism and Successful\n",
    "journalism = kickstarter.loc[(kickstarter['state'] == \"successful\") & (kickstarter['main_category'] == \"Journalism\")]\n",
    "#journalism.to_csv('journalism.csv')\n",
    "journalism['main_category'].value_counts()\n",
    "\n",
    "journalismDiv = ((journalism['usd_pledged_real'] - journalism['usd_goal_real']) / abs(journalism['usd_goal_real'])) * 100 #Percent Change\n",
    "print(craftsDiv) #Result is Percent Gained or Lost after Kickstarter Campaign\n",
    "journalismDiv.describe()"
   ],
   "metadata": {
    "collapsed": false,
    "pycharm": {
     "name": "#%%\n"
    }
   }
  },
  {
   "cell_type": "code",
   "execution_count": 232,
   "outputs": [
    {
     "name": "stdout",
     "output_type": "stream",
     "text": [
      "233         0.416667\n",
      "264        26.666667\n",
      "400         0.000000\n",
      "470         0.571429\n",
      "700         2.941176\n",
      "             ...    \n",
      "377628    168.125000\n",
      "378213      0.000000\n",
      "378502     22.953333\n",
      "378610      1.000000\n",
      "378613      1.714286\n",
      "Length: 2338, dtype: float64\n"
     ]
    },
    {
     "data": {
      "text/plain": "count    2338.000000\nmean       23.727864\nstd       211.068981\nmin         0.000000\n25%         2.352688\n50%         7.666667\n75%        20.000000\nmax      9900.000000\ndtype: float64"
     },
     "execution_count": 232,
     "metadata": {},
     "output_type": "execute_result"
    }
   ],
   "source": [
    "#Sorts out Dance and Successful\n",
    "dance = kickstarter.loc[(kickstarter['state'] == \"successful\") & (kickstarter['main_category'] == \"Dance\")]\n",
    "#dance.to_csv('dance.csv')\n",
    "dance['main_category'].value_counts()\n",
    "\n",
    "danceDiv = ((dance['usd_pledged_real'] - dance['usd_goal_real']) / abs(dance['usd_goal_real'])) * 100 #Percent Change\n",
    "print(danceDiv) #Result is Percent Gained or Lost after Kickstarter Campaign\n",
    "danceDiv.describe()\n"
   ],
   "metadata": {
    "collapsed": false,
    "pycharm": {
     "name": "#%%\n"
    }
   }
  }
 ],
 "metadata": {
  "kernelspec": {
   "display_name": "Python 3",
   "language": "python",
   "name": "python3"
  },
  "language_info": {
   "codemirror_mode": {
    "name": "ipython",
    "version": 3
   },
   "file_extension": ".py",
   "mimetype": "text/x-python",
   "name": "python",
   "nbconvert_exporter": "python",
   "pygments_lexer": "ipython3",
   "version": "3.8.8"
  }
 },
 "nbformat": 4,
 "nbformat_minor": 1
}